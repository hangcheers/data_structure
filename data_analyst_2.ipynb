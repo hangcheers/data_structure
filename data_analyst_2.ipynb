{
 "cells": [
  {
   "cell_type": "code",
   "execution_count": 1,
   "metadata": {},
   "outputs": [],
   "source": [
    "import pandas as pd"
   ]
  },
  {
   "cell_type": "code",
   "execution_count": 28,
   "metadata": {},
   "outputs": [],
   "source": [
    "pd.options.display.max_rows = 10"
   ]
  },
  {
   "cell_type": "code",
   "execution_count": 30,
   "metadata": {},
   "outputs": [],
   "source": [
    "unames = ['user_id','gender','age','occupation','zip']\n",
    "users = pd.read_table('/Users/helena/Downloads/pydata-notebook-master/datasets/movielens/users.dat',sep='::',\n",
    "                     header = None, names = unames, engine = 'python')"
   ]
  },
  {
   "cell_type": "code",
   "execution_count": 49,
   "metadata": {},
   "outputs": [
    {
     "name": "stdout",
     "output_type": "stream",
     "text": [
      "   user_id  movie_id  rating  timestamp\n",
      "0        1      1193       5  978300760\n",
      "1        1       661       3  978302109\n",
      "2        1       914       3  978301968\n",
      "3        1      3408       4  978300275\n",
      "4        1      2355       5  978824291\n"
     ]
    }
   ],
   "source": [
    "rnames = ['user_id','movie_id','rating','timestamp']\n",
    "ratings = pd.read_table('/Users/helena/Downloads/pydata-notebook-master/datasets/movielens/ratings.dat',sep='::',\n",
    "                       header = None, names = rnames, engine = 'python')\n",
    "print(ratings[:5])"
   ]
  },
  {
   "cell_type": "code",
   "execution_count": 59,
   "metadata": {},
   "outputs": [
    {
     "name": "stdout",
     "output_type": "stream",
     "text": [
      "     user                              ratings                           \n",
      "  user_id gender age occupation    zip user_id movie_id rating  timestamp\n",
      "0       1      F   1         10  48067       1     1193      5  978300760\n",
      "1       2      M  56         16  70072       1      661      3  978302109\n",
      "2       3      M  25         15  55117       1      914      3  978301968\n",
      "3       4      M  45          7  02460       1     3408      4  978300275\n",
      "4       5      M  25         20  55455       1     2355      5  978824291\n"
     ]
    }
   ],
   "source": [
    "data = pd.concat([users,ratings],keys = ['user','ratings'],join='inner',axis = 1) # concat 完成拼接\n",
    "print(data.head())"
   ]
  },
  {
   "cell_type": "code",
   "execution_count": 51,
   "metadata": {},
   "outputs": [
    {
     "name": "stdout",
     "output_type": "stream",
     "text": [
      "     user                                ratings                           \n",
      "  user_id gender   age occupation    zip user_id movie_id rating  timestamp\n",
      "0     1.0      F   1.0       10.0  48067       1     1193      5  978300760\n",
      "1     2.0      M  56.0       16.0  70072       1      661      3  978302109\n",
      "2     3.0      M  25.0       15.0  55117       1      914      3  978301968\n",
      "3     4.0      M  45.0        7.0  02460       1     3408      4  978300275\n",
      "4     5.0      M  25.0       20.0  55455       1     2355      5  978824291\n"
     ]
    }
   ],
   "source": [
    "data = pd.concat([users,ratings],keys = ['user','ratings'],join='outer',axis = 1)\n",
    "print(data.head())"
   ]
  },
  {
   "cell_type": "code",
   "execution_count": 53,
   "metadata": {},
   "outputs": [
    {
     "name": "stdout",
     "output_type": "stream",
     "text": [
      "   user_id gender  age  occupation    zip  movie_id  rating  timestamp\n",
      "0        1      F    1          10  48067      1193       5  978300760\n",
      "1        1      F    1          10  48067       661       3  978302109\n",
      "2        1      F    1          10  48067       914       3  978301968\n",
      "3        1      F    1          10  48067      3408       4  978300275\n",
      "4        1      F    1          10  48067      2355       5  978824291\n"
     ]
    }
   ],
   "source": [
    "data = pd.merge(users,ratings,how='left',on=['user_id']) \n",
    "# left表示以df1为主，如果df2中出现了某个User_id在df1中没有出现，就抛弃这个样本\n",
    "print(data.head())"
   ]
  },
  {
   "cell_type": "code",
   "execution_count": 69,
   "metadata": {},
   "outputs": [
    {
     "name": "stdout",
     "output_type": "stream",
     "text": [
      "   user_id  movie_id  rating  timestamp gender  age  occupation    zip  \\\n",
      "0        1      1193       5  978300760      F    1          10  48067   \n",
      "1        2      1193       5  978298413      M   56          16  70072   \n",
      "2       12      1193       4  978220179      M   25          12  32793   \n",
      "3       15      1193       4  978199279      M   25           7  22903   \n",
      "4       17      1193       5  978158471      M   50           1  95350   \n",
      "\n",
      "                                    title genres  \n",
      "0  One Flew Over the Cuckoo's Nest (1975)  Drama  \n",
      "1  One Flew Over the Cuckoo's Nest (1975)  Drama  \n",
      "2  One Flew Over the Cuckoo's Nest (1975)  Drama  \n",
      "3  One Flew Over the Cuckoo's Nest (1975)  Drama  \n",
      "4  One Flew Over the Cuckoo's Nest (1975)  Drama  \n"
     ]
    }
   ],
   "source": [
    "mnames = ['movie_id','title','genres']\n",
    "movies = pd.read_table('/Users/helena/Downloads/pydata-notebook-master/datasets/movielens/movies.dat',sep='::',\n",
    "                     header = None, names = mnames, engine = 'python')\n",
    "data = pd.merge(pd.merge(ratings,users,how = 'left',on = ['user_id']),movies,on = ['movie_id'])\n",
    "print(data.head())"
   ]
  },
  {
   "cell_type": "code",
   "execution_count": 71,
   "metadata": {},
   "outputs": [
    {
     "name": "stdout",
     "output_type": "stream",
     "text": [
      "user_id                                            1\n",
      "movie_id                                        1193\n",
      "rating                                             5\n",
      "timestamp                                  978300760\n",
      "gender                                             F\n",
      "age                                                1\n",
      "occupation                                        10\n",
      "zip                                            48067\n",
      "title         One Flew Over the Cuckoo's Nest (1975)\n",
      "genres                                         Drama\n",
      "Name: 0, dtype: object\n"
     ]
    }
   ],
   "source": [
    "print(data.iloc[0])"
   ]
  },
  {
   "cell_type": "code",
   "execution_count": 77,
   "metadata": {},
   "outputs": [
    {
     "name": "stdout",
     "output_type": "stream",
     "text": [
      "gender                                             F         M\n",
      "title                                                         \n",
      "$1,000,000 Duck (1971)                      3.375000  2.761905\n",
      "'Night Mother (1986)                        3.388889  3.352941\n",
      "'Til There Was You (1997)                   2.675676  2.733333\n",
      "'burbs, The (1989)                          2.793478  2.962085\n",
      "...And Justice for All (1979)               3.828571  3.689024\n",
      "...                                              ...       ...\n",
      "Zed & Two Noughts, A (1985)                 3.500000  3.380952\n",
      "Zero Effect (1998)                          3.864407  3.723140\n",
      "Zero Kelvin (Kj�rlighetens kj�tere) (1995)       NaN  3.500000\n",
      "Zeus and Roxanne (1997)                     2.777778  2.357143\n",
      "eXistenZ (1999)                             3.098592  3.289086\n",
      "\n",
      "[3706 rows x 2 columns]\n"
     ]
    }
   ],
   "source": [
    "# 根据用户/电影属性对评分数据进行聚合操作\n",
    "mean_ratings = data.pivot_table('rating',index='title',columns = 'gender',aggfunc = 'mean')\n",
    "print(mean_ratings)"
   ]
  },
  {
   "cell_type": "code",
   "execution_count": 73,
   "metadata": {},
   "outputs": [
    {
     "name": "stdout",
     "output_type": "stream",
     "text": [
      "title\n",
      "$1,000,000 Duck (1971)                37\n",
      "'Night Mother (1986)                  70\n",
      "'Til There Was You (1997)             52\n",
      "'burbs, The (1989)                   303\n",
      "...And Justice for All (1979)        199\n",
      "1-900 (1994)                           2\n",
      "10 Things I Hate About You (1999)    700\n",
      "101 Dalmatians (1961)                565\n",
      "101 Dalmatians (1996)                364\n",
      "12 Angry Men (1957)                  616\n",
      "dtype: int64\n"
     ]
    }
   ],
   "source": [
    "rating_by_title = data.groupby('title').size()\n",
    "print(rating_by_title[:10])"
   ]
  },
  {
   "cell_type": "code",
   "execution_count": 74,
   "metadata": {},
   "outputs": [
    {
     "name": "stdout",
     "output_type": "stream",
     "text": [
      "Index([''burbs, The (1989)', '10 Things I Hate About You (1999)',\n",
      "       '101 Dalmatians (1961)', '101 Dalmatians (1996)', '12 Angry Men (1957)',\n",
      "       '13th Warrior, The (1999)', '2 Days in the Valley (1996)',\n",
      "       '20,000 Leagues Under the Sea (1954)', '2001: A Space Odyssey (1968)',\n",
      "       '2010 (1984)',\n",
      "       ...\n",
      "       'X-Men (2000)', 'Year of Living Dangerously (1982)',\n",
      "       'Yellow Submarine (1968)', 'You've Got Mail (1998)',\n",
      "       'Young Frankenstein (1974)', 'Young Guns (1988)',\n",
      "       'Young Guns II (1990)', 'Young Sherlock Holmes (1985)',\n",
      "       'Zero Effect (1998)', 'eXistenZ (1999)'],\n",
      "      dtype='object', name='title', length=1216)\n"
     ]
    }
   ],
   "source": [
    "active_titles = rating_by_title.index[rating_by_title >= 250]\n",
    "print(active_titles)"
   ]
  },
  {
   "cell_type": "code",
   "execution_count": 76,
   "metadata": {},
   "outputs": [
    {
     "name": "stdout",
     "output_type": "stream",
     "text": [
      "gender                                    F         M\n",
      "title                                                \n",
      "'burbs, The (1989)                 2.793478  2.962085\n",
      "10 Things I Hate About You (1999)  3.646552  3.311966\n",
      "101 Dalmatians (1961)              3.791444  3.500000\n",
      "101 Dalmatians (1996)              3.240000  2.911215\n",
      "12 Angry Men (1957)                4.184397  4.328421\n",
      "...                                     ...       ...\n",
      "Young Guns (1988)                  3.371795  3.425620\n",
      "Young Guns II (1990)               2.934783  2.904025\n",
      "Young Sherlock Holmes (1985)       3.514706  3.363344\n",
      "Zero Effect (1998)                 3.864407  3.723140\n",
      "eXistenZ (1999)                    3.098592  3.289086\n",
      "\n",
      "[1216 rows x 2 columns]\n"
     ]
    }
   ],
   "source": [
    "mean_ratings = mean_ratings.loc[active_titles]\n",
    "print(mean_ratings)"
   ]
  },
  {
   "cell_type": "code",
   "execution_count": 78,
   "metadata": {},
   "outputs": [
    {
     "name": "stdout",
     "output_type": "stream",
     "text": [
      "gender                                               F         M\n",
      "title                                                           \n",
      "Clean Slate (Coup de Torchon) (1981)               5.0  3.857143\n",
      "Ballad of Narayama, The (Narayama Bushiko) (1958)  5.0  3.428571\n",
      "Raw Deal (1948)                                    5.0  3.307692\n",
      "Bittersweet Motel (2000)                           5.0       NaN\n",
      "Skipped Parts (2000)                               5.0  4.000000\n",
      "Lamerica (1994)                                    5.0  4.666667\n",
      "Gambler, The (A J�t�kos) (1997)                    5.0  3.166667\n",
      "Brother, Can You Spare a Dime? (1975)              5.0  3.642857\n",
      "Ayn Rand: A Sense of Life (1997)                   5.0  4.000000\n",
      "24 7: Twenty Four Seven (1997)                     5.0  3.750000\n"
     ]
    }
   ],
   "source": [
    "# 女性观众喜欢的电影\n",
    "top_female_ratings = mean_ratings.sort_values(by = 'F', ascending = False)\n",
    "print(top_female_ratings[:10])"
   ]
  },
  {
   "cell_type": "code",
   "execution_count": 79,
   "metadata": {},
   "outputs": [
    {
     "name": "stdout",
     "output_type": "stream",
     "text": [
      "gender                                F         M      diff\n",
      "title                                                      \n",
      "$1,000,000 Duck (1971)         3.375000  2.761905 -0.613095\n",
      "'Night Mother (1986)           3.388889  3.352941 -0.035948\n",
      "'Til There Was You (1997)      2.675676  2.733333  0.057658\n",
      "'burbs, The (1989)             2.793478  2.962085  0.168607\n",
      "...And Justice for All (1979)  3.828571  3.689024 -0.139547\n"
     ]
    }
   ],
   "source": [
    "# measure the rating disagreement\n",
    "mean_ratings['diff'] = mean_ratings['M'] - mean_ratings['F']\n",
    "print(mean_ratings[:5])"
   ]
  },
  {
   "cell_type": "code",
   "execution_count": 81,
   "metadata": {},
   "outputs": [
    {
     "name": "stdout",
     "output_type": "stream",
     "text": [
      "gender                                        F         M      diff\n",
      "title                                                              \n",
      "Tigrero: A Film That Was Never Made (1994)  1.0  4.333333  3.333333\n",
      "Neon Bible, The (1995)                      1.0  4.000000  3.000000\n",
      "Enfer, L' (1994)                            1.0  3.750000  2.750000\n",
      "Stalingrad (1993)                           1.0  3.593750  2.593750\n",
      "Killer: A Journal of Murder (1995)          1.0  3.428571  2.428571\n"
     ]
    }
   ],
   "source": [
    "sorted_by_diff = mean_ratings.sort_values(by='diff',ascending = False)\n",
    "print(sorted_by_diff[:5])"
   ]
  },
  {
   "cell_type": "code",
   "execution_count": 87,
   "metadata": {},
   "outputs": [
    {
     "name": "stdout",
     "output_type": "stream",
     "text": [
      "title\n",
      "$1,000,000 Duck (1971)                        1.092563\n",
      "'Night Mother (1986)                          1.118636\n",
      "'Til There Was You (1997)                     1.020159\n",
      "'burbs, The (1989)                            1.107760\n",
      "...And Justice for All (1979)                 0.878110\n",
      "                                                ...   \n",
      "Zed & Two Noughts, A (1985)                   1.052794\n",
      "Zero Effect (1998)                            1.042932\n",
      "Zero Kelvin (Kj�rlighetens kj�tere) (1995)    0.707107\n",
      "Zeus and Roxanne (1997)                       1.122884\n",
      "eXistenZ (1999)                               1.178568\n",
      "Name: rating, Length: 3706, dtype: float64\n"
     ]
    }
   ],
   "source": [
    "rating_std_by_title = data.groupby('title')['rating'].std()\n",
    "print(rating_std_by_title)"
   ]
  },
  {
   "cell_type": "code",
   "execution_count": null,
   "metadata": {},
   "outputs": [],
   "source": []
  }
 ],
 "metadata": {
  "kernelspec": {
   "display_name": "Python 3",
   "language": "python",
   "name": "python3"
  },
  "language_info": {
   "codemirror_mode": {
    "name": "ipython",
    "version": 3
   },
   "file_extension": ".py",
   "mimetype": "text/x-python",
   "name": "python",
   "nbconvert_exporter": "python",
   "pygments_lexer": "ipython3",
   "version": "3.6.5"
  }
 },
 "nbformat": 4,
 "nbformat_minor": 2
}
